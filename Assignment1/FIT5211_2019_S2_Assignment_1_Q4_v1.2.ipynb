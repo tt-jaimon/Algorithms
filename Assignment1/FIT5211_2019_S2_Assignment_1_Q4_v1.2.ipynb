{
 "cells": [
  {
   "cell_type": "markdown",
   "metadata": {},
   "source": [
    "### Name: Jaimon Thyparambil Thomas\n",
    "### StudentID: 29566428\n",
    "### Date: 20/9/2019"
   ]
  },
  {
   "cell_type": "markdown",
   "metadata": {},
   "source": [
    "# Question 4: Complexity analysis (20 marks)\n",
    "You are a researcher at Monash University working on a divide and conquer \n",
    "algorithm to solve a pesky problem P.\n",
    "\n",
    "The University eventually decides it would like you to decide whether to use the current known approach A which recursively divides a problem into 4 subproblems, each of size $n/7$ combining solutions in $O(n^2)$ time to solve P, or your own \n",
    "approach of an algorithm B which recursively divides 7 subproblems, each of size $n/4$, combining solutions in O($\\sqrt n$) time.\n"
   ]
  },
  {
   "cell_type": "markdown",
   "metadata": {
    "colab_type": "text",
    "id": "dW86tIP8oI0H"
   },
   "source": [
    "## Q4.1 (8 marks)\n",
    "Using the Master Theorem, determine which algorithm (A or B) has the best time complexity. Start by expressing the time complexity of each algorithm using $T(n)$ as seen in the lectures. Prove your answers."
   ]
  },
  {
   "cell_type": "markdown",
   "metadata": {
    "colab_type": "text",
    "id": "Xz50xKVIoN-m"
   },
   "source": [
    "### Algorithm A\n",
    "$T(n) = 4T(\\frac{n}{7}) + O(n^2)$\n",
    "<br>Here **a=4, b=7** and **c = 2**\n",
    "<br>$\\log_b a = log_7 4 < 2 $\n",
    "<br>Here since $\\log_b a < c$ we can use masters theorem case 3 \n",
    "<br> So as per masters theorem case overall complexity is $O(n^c)$\n",
    "<br>So the overall complexity of Algorithm A is $O(n^2)$\n",
    "\n",
    "### Algorithm B\n",
    "$T(n) = 7T(\\frac{n}{4}) + O(n^\\frac{1}{2})$\n",
    "<br>Here **a=7, b=4** and **c = 1/2**\n",
    "<br>$\\log_b a = log_4 7 > 1/2 $\n",
    "<br>Here since $\\log_b a > c$ we can use masters theorem case 1\n",
    "<br> So as per masters theorem case overall complexity is $O(n^{\\log_b a})$\n",
    "<br>So the overall complexity of Algorithm B is $O(n^{\\log_4 7})$\n",
    "\n",
    "Since $O(n^{\\log_4 7}) < O(n^2)$. Algorithm B is faster compared to Algorithm A"
   ]
  },
  {
   "cell_type": "markdown",
   "metadata": {
    "colab_type": "text",
    "id": "W-Da5H5NvKNu"
   },
   "source": [
    "## Q4.2 (2 marks)\n",
    "Eventually your deadline day approaches and you are required to present to your peers your answer to Q4.1 and reasons for making that decision. \n",
    "\n",
    "However, moments before taking to the stage to give the presentation, a strange man approaches you saying that he has found an algorithm C which \n",
    "solves P, with $n$ subproblems, each of size $\\sqrt n$, with O(1) combining \n",
    "time. The man says that he has used the Master Theorem to prove that his algorithm's time complexity was $O(n)$. Without computing the complexity of algorithm C by any other mean, can you trust this man's use of the Master Theorem for this complexity analysis? Why?"
   ]
  },
  {
   "cell_type": "markdown",
   "metadata": {
    "colab_type": "text",
    "id": "0d5kcKDvw8pH"
   },
   "source": [
    "### Algorithm C\n",
    "\n",
    "As per what the starnge man said Algorithm C can be written as\n",
    "<br>$T(n) = nT(n^{\\frac{1}{2}})+ O(1)$\n",
    "<br> He had mentioned that he had applied masters theorem in the above equation. But inorder to apply masters theorem in any equation we know that the equation should be of the form\n",
    "<br>$T(n) = aT(\\frac{n}{b}) + O(n^c)$\n",
    "<br>we know that to apply masters theorem all a, b and c should be constants but in this case our $a = n$ and $b= n^{\\frac{1}{2}}$ are not constants. So in this case we cant apply masters Theorem\n",
    "\n"
   ]
  },
  {
   "cell_type": "markdown",
   "metadata": {
    "colab_type": "text",
    "id": "MiBX_25Qo66s"
   },
   "source": [
    "## Q4.3 (10 marks)\n",
    "After your presentation, you decide to use telescoping to determine the time complexity of algorithm C. Express this runtime using a recurrence with the term $T(n)$, as seen in the lectures, then use telescoping to determine its runtime in the form $T(n) \\in O(n^x \\log^y n)$, with $x$ and $y$ to be determined by you. During your analysis, indicate the point at which you have proven whether algorithm C was better or worse than the algorithm you chose at question Q4.1."
   ]
  },
  {
   "cell_type": "markdown",
   "metadata": {
    "colab_type": "text",
    "id": "vctdpfiuvu0P"
   },
   "source": [
    "$T(n) =nT(n^{\\frac{1}{2}}) + O(1) $  \n",
    "$T(n) = n.(n^{\\frac{1}{2}} T(n^{\\frac{1}{4}}) + O(1)) + O(1)$  \n",
    "$T(n) = n^{(1+\\frac{1}{2}+\\frac{1}{4} + ... + \\frac{1}{\\infty})} +...T(1)...+n.n^{\\frac{1}{2}}O(1) +nO(1)+ O(1) $  \n",
    "<br>we know that series $(1+\\frac{1}{2}+\\frac{1}{4} + ... + \\frac{1}{\\infty}) = 2$. So substituting those values we get \n",
    "<br>$T(n) = n^2 + ((n^{\\frac{1}{\\infty}}...n^{\\frac{1}{2}}.n)+...+n.n^{\\frac{1}{2}}+n+1) O(1)$  \n",
    "$T(n) = n^2 + (n^2+...+n.n^{\\frac{1}{2}}+n+1) O(1)$  \n",
    "<br> Taking $n^2$ outside we get\n",
    "<br>$T(n) = n^2 + n^2(1+\\frac{1}{n} + \\frac{1}{n^{\\frac{1}{2}}} + \\frac{1}{n^{\\frac{1}{4}}}+ \\frac{1}{n^{\\frac{1}{\\infty}}}) O(1)$  \n",
    "\n",
    "$T(n) \\in O(n^2 \\log^? n)$  "
   ]
  },
  {
   "cell_type": "markdown",
   "metadata": {},
   "source": [
    "Here at line 4 itself we found that its complexity is either $n^2$ or greater. SO at that moment itself we found that it is worse than Algorithm B as its complexity was $n^{log_4 7}$ which is less than $n^2$"
   ]
  },
  {
   "cell_type": "markdown",
   "metadata": {},
   "source": [
    "Here in the final solution x is 2. as in the second part we can see that is is $n^2$ into some series"
   ]
  },
  {
   "cell_type": "code",
   "execution_count": null,
   "metadata": {},
   "outputs": [],
   "source": []
  }
 ],
 "metadata": {
  "colab": {
   "collapsed_sections": [],
   "name": "FIT5211_2019_S2_Assignment_1_Q4_v1.2.ipynb",
   "provenance": [],
   "version": "0.3.2"
  },
  "kernelspec": {
   "display_name": "Python 3",
   "language": "python",
   "name": "python3"
  },
  "language_info": {
   "codemirror_mode": {
    "name": "ipython",
    "version": 3
   },
   "file_extension": ".py",
   "mimetype": "text/x-python",
   "name": "python",
   "nbconvert_exporter": "python",
   "pygments_lexer": "ipython3",
   "version": "3.6.5"
  }
 },
 "nbformat": 4,
 "nbformat_minor": 1
}
