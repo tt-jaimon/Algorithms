{
 "cells": [
  {
   "cell_type": "markdown",
   "metadata": {},
   "source": [
    "### Name: Jaimon Thyparambil Thomas\n",
    "### StudentID: 29566428\n",
    "### Date: 20/9/2019"
   ]
  },
  {
   "cell_type": "markdown",
   "metadata": {},
   "source": [
    "# Question 3: Matrix Creation (20 marks)"
   ]
  },
  {
   "cell_type": "markdown",
   "metadata": {},
   "source": [
    "Suppose that an array $A$ of $n \\geq 1$ numbers is given.\n",
    "\n",
    "We want to create a $n \\times n$ matrix $B$ such that, \n",
    "* for $0\\leq i < j < n$, $B[i,j]= \\sum_{k=i}^{j} A[k] = A[i] + A[i+1] + \\dots +  A[j]$,\n",
    "* for $n > i \\geq j \\geq 0$,  $B[i,j]=0$."
   ]
  },
  {
   "cell_type": "markdown",
   "metadata": {
    "colab_type": "text",
    "id": "b5zzQ61lyTvI"
   },
   "source": [
    "## Q3.1 (15 marks)\n",
    "Create a function *createMatrix(A)* which takes an array $A$ as input and returns the matrix $B$ as defined above. You can get up to 10 marks for a $O(n^3)$ algorithm, and up to 15 marks for a $O(n^2)$ algorithm. We recommend writing the $O(n^3)$ algorithm first to ensure 10 marks, and then attempt a $O(n^2)$ algorithm."
   ]
  },
  {
   "cell_type": "code",
   "execution_count": 1,
   "metadata": {},
   "outputs": [],
   "source": [
    "import numpy\n",
    "\n",
    "def createMatrix(A):\n",
    "    n = len(A)\n",
    "    #Creating array of size n^2 takes maximum complexity of n^2\n",
    "    B = [[0]*n for i in range(n)]\n",
    "    sumSoFar = 0\n",
    "    for i in range(n):\n",
    "        sumSoFar = A[i]\n",
    "        for j in range(i+1,n):\n",
    "            sumSoFar += A[j]\n",
    "            B[i][j] = sumSoFar\n",
    "    return B"
   ]
  },
  {
   "cell_type": "markdown",
   "metadata": {
    "colab_type": "text",
    "id": "2TC6H1Z-0unn"
   },
   "source": [
    "The following code is given for your testing:"
   ]
  },
  {
   "cell_type": "code",
   "execution_count": 2,
   "metadata": {
    "colab": {},
    "colab_type": "code",
    "id": "DsAINPig0STv"
   },
   "outputs": [],
   "source": [
    "def checkResult(B, correctB):\n",
    "    assert numpy.equal(B, correctB).all()"
   ]
  },
  {
   "cell_type": "code",
   "execution_count": 3,
   "metadata": {},
   "outputs": [],
   "source": [
    "checkResult(createMatrix([0,0,0,0]), [[0,0,0,0],[0,0,0,0],[0,0,0,0],[0,0,0,0]])"
   ]
  },
  {
   "cell_type": "code",
   "execution_count": 4,
   "metadata": {},
   "outputs": [],
   "source": [
    "checkResult(createMatrix([1,2,3]), [[0,3,6],[0,0,5],[0,0,0]])"
   ]
  },
  {
   "cell_type": "code",
   "execution_count": 5,
   "metadata": {},
   "outputs": [],
   "source": [
    "checkResult(createMatrix([-1,2,-3]), [[0,1,-2],[0,0,-1],[0,0,0]])"
   ]
  },
  {
   "cell_type": "code",
   "execution_count": 6,
   "metadata": {},
   "outputs": [],
   "source": [
    "checkResult(createMatrix([10,1,-2,12,4,-100]), [[0,11,9,21,25,-75],[0,0,-1,11,15,-85],[0,0,0,10,14,-86],[0,0,0,0,16,-84],[0,0,0,0,0,-96],[0,0,0,0,0,0]])"
   ]
  },
  {
   "cell_type": "markdown",
   "metadata": {
    "colab_type": "text",
    "id": "MOd1lCZ30Vrj"
   },
   "source": [
    "## Q3.2 (5 marks)\n",
    "Prove the runtime of the algorithm you wrote."
   ]
  },
  {
   "cell_type": "markdown",
   "metadata": {},
   "source": [
    "Here the complexity for creating an n*n list (B) with initial value as zero is $n^2$ Then there is a for loop which runs for n times (for i) within that there is another for loop which runs for n times in worst case (for j) . So the total complexity for processing i's for loop code block is $n^2$. There is no other loops. So the overall complexity is $ O(n^2 + n^2 )= O(2n^2)$ we can ignore the constants term 2. So the overrall complexity of this algorithm is $O(n^2)$"
   ]
  },
  {
   "cell_type": "code",
   "execution_count": null,
   "metadata": {},
   "outputs": [],
   "source": []
  }
 ],
 "metadata": {
  "colab": {
   "collapsed_sections": [],
   "name": "FIT5211_2019_S2_Assignment_1_v1.ipynb",
   "provenance": [],
   "version": "0.3.2"
  },
  "kernelspec": {
   "display_name": "Python 3",
   "language": "python",
   "name": "python3"
  },
  "language_info": {
   "codemirror_mode": {
    "name": "ipython",
    "version": 3
   },
   "file_extension": ".py",
   "mimetype": "text/x-python",
   "name": "python",
   "nbconvert_exporter": "python",
   "pygments_lexer": "ipython3",
   "version": "3.6.5"
  }
 },
 "nbformat": 4,
 "nbformat_minor": 4
}
