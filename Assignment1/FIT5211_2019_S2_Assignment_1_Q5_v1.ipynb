{
 "cells": [
  {
   "cell_type": "markdown",
   "metadata": {
    "colab_type": "text",
    "id": "zCVka4rlCW4p"
   },
   "source": [
    "### Name: Jaimon Thyparambil Thomas\n",
    "### StudentID: 29566428\n",
    "### Date: 20/9/2019"
   ]
  },
  {
   "cell_type": "markdown",
   "metadata": {},
   "source": [
    "# Question 5: Divide and Conquer (25 marks)\n",
    "\n",
    "In a community, the local goverment has assigned each person an ID, and has a scanner which can read two IDs and return True if the two persons belong to the same family, and False otherwise. Note that if person A and person B are in the same family, and B and C are in the same family, then A and C are also in the same family.\n",
    "\n",
    "This community often gathers in the town hall and vote for local laws. However, a vote is only valid if at most 1/3 of the people who are voting belong to the same family. Your task is to design an algorithm which can efficiently determine if a vote is valid, i.e. if at no family has strictly more than 1/3 of the voters.\n",
    "\n",
    "The scanner that reads two IDs is given by the function below:"
   ]
  },
  {
   "cell_type": "code",
   "execution_count": 1,
   "metadata": {},
   "outputs": [],
   "source": [
    "import math\n",
    "\n",
    "def same_family(id1, id2):\n",
    "    \"\"\"Returns True if and only if id1 and id2 are from the same family\"\"\"\n",
    "    return id1 == id2"
   ]
  },
  {
   "cell_type": "markdown",
   "metadata": {},
   "source": [
    "Note that your program should be independent of the way the function *same_family* is implemented."
   ]
  },
  {
   "cell_type": "markdown",
   "metadata": {},
   "source": [
    "## Q5.1 (5 marks)\n",
    "Write a function *count_same_family* which takes a list of IDs and a *test_id* id as input, and determines the number of people from the same family as *test_id* in the input list."
   ]
  },
  {
   "cell_type": "code",
   "execution_count": 2,
   "metadata": {},
   "outputs": [],
   "source": [
    "def count_same_family(ids, start, end, test_id):\n",
    "    \"\"\"returns the number of IDs in the list 'ids' between start and end(excluded)\n",
    "       which are from the same family as 'test_id'\"\"\"\n",
    "    count = 0\n",
    "    for i in range(start,end):\n",
    "        if(same_family(ids[i],test_id)):\n",
    "            count +=1\n",
    "    #TODO write the rest of your program here\n",
    "    return count"
   ]
  },
  {
   "cell_type": "markdown",
   "metadata": {},
   "source": [
    "What is the time complexity of this function? Justify your answer."
   ]
  },
  {
   "cell_type": "markdown",
   "metadata": {},
   "source": [
    "Complexity of the above code looks like $O(end-start)$. as there is only one loop in this code and that runs from start till end. But in the worst case if the size of the list was n and start and end was 0 and length of list respectively. Then the complexity will be $O(n)$. So The worst possible time complexity of this code is $O(n)$ "
   ]
  },
  {
   "cell_type": "markdown",
   "metadata": {},
   "source": [
    "## Q5.2 (15 marks)\n",
    "Write a Divide-and-Conquer algorithm which determines whether the vote is valid. The input is a list of IDs, and the output is True if and only no single family has more than 1/3 of the group population. For reference, the solution code, without comments, is 30 lines long. Your algorithm should have a time complexity of $O(n)$ or $O(n \\log n)$, where $n$ is the size of the input list. Here are some questions to think about to help (no need to answer them here):\n",
    "* Suppose that the vote is invalid, i.e. there is a family with > 1/3 of the group. Divide the group into $k$ subgroups. Can the vote in all of these subgroups be valid?\n",
    "* Given an group, how many families can have > 1/3 of the group population?\n",
    "\n",
    "We recommend you define another function that can be called recursively. Since you may have to work on sublists, remember that the Python slicing operation takes linear time in the size of the list."
   ]
  },
  {
   "cell_type": "code",
   "execution_count": 5,
   "metadata": {
    "colab": {},
    "colab_type": "code",
    "id": "Sa0LShMpCW4t"
   },
   "outputs": [],
   "source": [
    "def vote_is_valid(ids): \n",
    "    topThree = recFamily(ids,0,len(ids))\n",
    "    #the complexity of the below block is O(3n) we can ignore the constant so the coplexity is O(n)\n",
    "    for each in topThree:\n",
    "        #checking if out of any of the top 3 occuring families that we found any of the family member count > 1/3\n",
    "        if(count_same_family(ids,0,len(ids),each[0])> len(ids)/3):\n",
    "            return False\n",
    "    return True\n",
    "\n",
    "def findTopThree(dict1, dict2):\n",
    "    #function used to find top three occuring families within the passed two groups all possible combinations\n",
    "    largestKey,largestVal = None,None\n",
    "    secondLargestKey,secondLargestVal = None,None\n",
    "    thirdLargestKey,thirdLargestVal = None,None\n",
    "    for each in dict1 + dict2:\n",
    "        key,val = each[0],each[1]\n",
    "        if (largestKey == None or val > largestVal):\n",
    "            thirdLargestKey,thirdLargestVal = secondLargestKey,secondLargestVal\n",
    "            secondLargestKey,secondLargestVal = largestKey,largestVal\n",
    "            largestKey,largestVal = key,val\n",
    "        elif (secondLargestKey == None or val > secondLargestVal):\n",
    "            thirdLargestKey,thirdLargestVal = secondLargestKey,secondLargestVal\n",
    "            secondLargestKey,secondLargestVal = key,val\n",
    "        elif (thirdLargestKey == None or val > thirdLargestVal):\n",
    "            thirdLargestKey,thirdLargestVal = key,val\n",
    "    temp = [(largestKey, largestVal)]\n",
    "    if(secondLargestKey!= None and secondLargestKey!= largestKey):\n",
    "        temp.append((secondLargestKey,secondLargestVal))\n",
    "    if(thirdLargestKey!=None and thirdLargestKey not in [largestKey,secondLargestKey]):\n",
    "        temp.append((thirdLargestKey,thirdLargestVal))\n",
    "    return temp\n",
    "\n",
    "def recFamily(ids,start,end):\n",
    "    if start >= end-1:\n",
    "        return [(ids[start],1)]\n",
    "    mid = (start + end)//2\n",
    "    leftDict = recFamily(ids,start,mid)\n",
    "    rightDict = recFamily(ids,mid,end)\n",
    "    #Here the length of left dict and right dict will always be less than 3\n",
    "    #So here the time complexity of the below block is O(9) always\n",
    "    for i in range(len(leftDict)):\n",
    "        for j in range(len(rightDict)):\n",
    "            if(same_family(leftDict[i][0],rightDict[j][0])):\n",
    "                leftDict[i] = (leftDict[i][0],leftDict[i][1] + rightDict[j][1])\n",
    "    #Solution will always be within the top three\n",
    "    temp =  findTopThree(leftDict,rightDict)\n",
    "    return temp"
   ]
  },
  {
   "cell_type": "markdown",
   "metadata": {
    "colab": {},
    "colab_type": "code",
    "id": "-4qt-WgZR-2D"
   },
   "source": [
    "The following test cases are given for your testing."
   ]
  },
  {
   "cell_type": "code",
   "execution_count": 4,
   "metadata": {},
   "outputs": [
    {
     "name": "stderr",
     "output_type": "stream",
     "text": [
      "...............\n",
      "----------------------------------------------------------------------\n",
      "Ran 15 tests in 1.898s\n",
      "\n",
      "OK\n"
     ]
    },
    {
     "data": {
      "text/plain": [
       "<unittest.runner.TextTestResult run=15 errors=0 failures=0>"
      ]
     },
     "execution_count": 4,
     "metadata": {},
     "output_type": "execute_result"
    }
   ],
   "source": [
    "import unittest\n",
    "import random\n",
    "import itertools\n",
    "random.seed(a=0)\n",
    "\n",
    "class TestVoteIsValid(unittest.TestCase):\n",
    "    def setUp(self):\n",
    "        pass\n",
    "    \n",
    "    def testSingle(self):\n",
    "        self.assertFalse(vote_is_valid([1]))\n",
    "\n",
    "    def testTwoSame(self):\n",
    "        self.assertFalse(vote_is_valid([1, 1]))\n",
    "        self.assertFalse(vote_is_valid([2, 2]))\n",
    "        \n",
    "    def testTwoDiff(self):\n",
    "        self.assertFalse(vote_is_valid([1, 2]))\n",
    "        \n",
    "    def testThreeAllDiff(self):\n",
    "        self.assertTrue(vote_is_valid([1, 2, 3]))\n",
    "        self.assertTrue(vote_is_valid([1, 3, 2]))\n",
    "        \n",
    "    def testThreeAllSame(self):\n",
    "        self.assertFalse(vote_is_valid([1, 1, 1]))\n",
    "        self.assertFalse(vote_is_valid([2, 2, 2]))\n",
    "        \n",
    "    def checkPermutations(self, testlist, answer, maxperm=1000):\n",
    "        assert len(testlist) > 0\n",
    "        assert answer is True or answer is False\n",
    "        assert maxperm > 0\n",
    "        \n",
    "        count = 0\n",
    "        for l in itertools.permutations(testlist):\n",
    "            msg = \"Given the IDs {}, the function vote_is_valid should return {}\".format(l, answer)\n",
    "            self.assertEqual(vote_is_valid(l), answer, msg)\n",
    "            count += 1\n",
    "            if count >= maxperm:\n",
    "                return\n",
    "            \n",
    "    def testThreeTwoSame(self):\n",
    "        self.checkPermutations([1, 1, 2], False)\n",
    "        \n",
    "    def testFourFalse(self):\n",
    "        self.checkPermutations([1, 1, 1, 1], False)\n",
    "        self.checkPermutations([1, 1, 1, 3], False)\n",
    "        self.checkPermutations([1, 1, 2, 3], False)\n",
    "        \n",
    "    def testFourTrue(self):\n",
    "        self.checkPermutations([1, 2, 3, 4], True)\n",
    "        \n",
    "    def testFiveTrue(self):\n",
    "        self.checkPermutations([1, 2, 3, 4, 5], True)\n",
    "        \n",
    "    def testFiveFalse(self):\n",
    "        self.checkPermutations([1, 1, 3, 4, 5], False)\n",
    "        self.checkPermutations([1, 1, 3, 3, 5], False)\n",
    "        self.checkPermutations([1, 1, 3, 3, 3], False)\n",
    "        \n",
    "    def testFalseEasy(self):\n",
    "        size = 100\n",
    "        sizefam = 1 + size//3\n",
    "        testlist = [1]*sizefam\n",
    "        testlist += random.sample(range(2,size), size - sizefam)\n",
    "        random.shuffle(testlist)\n",
    "        self.checkPermutations(testlist, False)\n",
    "\n",
    "    def testFalseHard(self):\n",
    "        size = 100\n",
    "        sizefam = 1 + size//3\n",
    "        testlist = [1]*sizefam + [2]*sizefam\n",
    "        testlist += random.choices(range(3,size), k=size - 2*sizefam)\n",
    "        random.shuffle(testlist)\n",
    "        self.checkPermutations(testlist, False)\n",
    "\n",
    "    def testTrueEasy(self):\n",
    "        size = 100\n",
    "        testlist = [i for i in range(0,size)]\n",
    "        random.shuffle(testlist)\n",
    "        self.checkPermutations(testlist, True)\n",
    "        \n",
    "    def testTrueMedium(self):\n",
    "        size = 100\n",
    "        sizefam = size//3\n",
    "        testlist = [1]*sizefam\n",
    "        testlist += random.sample(range(2,size), size - sizefam)\n",
    "        random.shuffle(testlist)\n",
    "        self.checkPermutations(testlist, True)\n",
    "\n",
    "    def testTrueHard(self):\n",
    "        size = 100\n",
    "        sizefam = size//3\n",
    "        testlist = [1]*sizefam + [2]*sizefam\n",
    "        testlist += random.sample(range(3,size), k=size - 2*sizefam)\n",
    "        random.shuffle(testlist)\n",
    "        self.checkPermutations(testlist, True)\n",
    "        \n",
    "testlist = TestVoteIsValid()\n",
    "suite = unittest.TestLoader().loadTestsFromModule(testlist)\n",
    "unittest.TextTestRunner().run(suite)"
   ]
  },
  {
   "cell_type": "markdown",
   "metadata": {},
   "source": [
    "FYI, the solution program pass these tests in under a second. If your program takes significantly more time, then it may be bugged or may not have the best time complexity."
   ]
  },
  {
   "cell_type": "markdown",
   "metadata": {
    "colab_type": "text",
    "id": "fL2i-KTH7MDZ"
   },
   "source": [
    "## Q5.3 (5 marks)\n",
    "What is the complexity of your algorithm? Prove your answer with the Master Theorem if applicable, otherwise with telescoping."
   ]
  },
  {
   "cell_type": "markdown",
   "metadata": {},
   "source": [
    "Time Complexity for recFamily Block\n",
    "<br>Since at each level n has been divided into two subproblems of size n/2 and combining time is always less than or equal to 9 as we are only considering the top three at each level. So time complexity of size n is\n",
    "<br>$T(n) = 2T(n/2) + O(9n^0)$\n",
    "<br>Here **a=2, b=2** and **c = 0**\n",
    "<br>$\\log_b a = log_2 2 > 0 $\n",
    "<br>Here since $\\log_b a > c$ we can use masters theorem case 1\n",
    "<br> So as per masters theorem case overall complexity is $O(n^{\\log_b a})$\n",
    "<br>So the overall complexity of this Algorithm is $O(n^{\\log_2 2})$ that is $O(n)$"
   ]
  }
 ],
 "metadata": {
  "colab": {
   "collapsed_sections": [],
   "name": "FIT5211_2019_S2_Assignment_1_v1.ipynb",
   "provenance": [],
   "version": "0.3.2"
  },
  "kernelspec": {
   "display_name": "Python 3",
   "language": "python",
   "name": "python3"
  },
  "language_info": {
   "codemirror_mode": {
    "name": "ipython",
    "version": 3
   },
   "file_extension": ".py",
   "mimetype": "text/x-python",
   "name": "python",
   "nbconvert_exporter": "python",
   "pygments_lexer": "ipython3",
   "version": "3.6.5"
  }
 },
 "nbformat": 4,
 "nbformat_minor": 4
}
