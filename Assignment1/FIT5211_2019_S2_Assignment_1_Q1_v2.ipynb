{
 "cells": [
  {
   "cell_type": "markdown",
   "metadata": {},
   "source": [
    "### Name: Jaimon Thyparambil Thomas\n",
    "### StudentID: 29566428\n",
    "### Date: 20/9/2019"
   ]
  },
  {
   "cell_type": "markdown",
   "metadata": {},
   "source": [
    "# Instructions\n",
    "* You must work on this assignment individually. We check for similarities and find collusion cases every semester. You've been warned!\n",
    "* An interview will be conducted for each student by the tutoring team during the tutorials. The purpose of the interview is to assess to whether each student understands the answers that they have provided. Based on the interview, every student will be awarded a modifier $X$ to their mark, which can be 0, .5, or 1. Your final assignment mark will be $X \\times Y$, where $Y$ is the \"normal\" assignment mark from 0 to 100. This is a way for us to verify whether the answers you understand all the answers you have given. We strongly encourage you don't provide even one answer you don't understand, as this may penalise the entirety of your assignment mark.\n",
    "* This assignment contributes 20% towards your final mark in FIT5211.\n",
    "* The subjects are computational complexity, recursion, and divide-and-conquer.\n",
    "* The exercises are roughly given by increasing difficulty. Obtaining a 100% mark may be very hard, depending on your background, and will probably take many hours. The assignment is written such that everyone can correctly complete the first exercises, but it is likely that the last ones will only be succesfully completed by few.\n",
    "* We provide tests. Do not edit them. If you want to edit them for your own debugging, then please make a copy and remove it later. A program will not receive full marks if it does not pass all tests. A program which passes all tests may still be incorrect, and thus may not receive full marks either. You may write and run additional tests.\n",
    "* Write clear and commented code. Up to all marks can be removed if your code is hard to read.\n",
    "* The expected deliverable is a *zip* archive of the 5 Jupyter Notebooks, completed with your answers. Missing files will be marked 0.\n",
    "* For questions on this assigment, please use the [Moodle forum](https://lms.monash.edu/mod/forum/view.php?id=6220683).\n",
    "* The deadline is September 20, 23:55, submission via [Moodle](https://lms.monash.edu/course/view.php?id=56446&section=5). If this does not work, and only in this case, send your *zipped* Notebooks to Bao.Ho@monash.edu.\n",
    "* The late penalty is 10 marks (deducted from your original mark) per late day.\n",
    "* Have fun!"
   ]
  },
  {
   "cell_type": "markdown",
   "metadata": {
    "colab_type": "text",
    "id": "p0p0I74_CW4Y"
   },
   "source": [
    "# Question 1: The coin change problem (20 marks)"
   ]
  },
  {
   "cell_type": "markdown",
   "metadata": {
    "colab_type": "text",
    "id": "tqT0fVH_gE9J"
   },
   "source": [
    "A vending machine contains certain quantities of coins and notes, and we want to determine if it can provide a given list of changes. (Since the operating system of the vending machine runs in a Jupyter notebook, the currency it uses is the euro (€) and not the dollar (\\$), which is more complicated to handle in a Jupyter Notebook.)\n",
    "\n",
    "For example, suppose that the vending machine contains five 1€ coins, one 5€ note, and three 10€ notes.  Can the machine provide the list of changes?\n",
    "* [20€, 25€, 15€]. Clearly not, as the machine only has $5*1+1*5+3*10=40$€, but must give 60€ in change. The answer is then False.\n",
    "* [15€, 15€]. Yes, with one 10€ note and one 5€ note for the first amount, and with one 10€ note and five 1€ coins for the second amount. The answer is then True.\n",
    "* [8€, 15€]. It's less clear, but the answer is no. The only way to make 8€ is to use the 5€ note and three 1€ coins, and then there is no way to make 15€ with the remaining coins. The answer is then False.\n",
    "\n",
    "In this problem, the possible denominations of coins or notes that the machine can contain are 1€, 5€, 10€, 20€, 100€. This will be provided in a list called *denominations*, always equal to [1, 5, 10, 20, 100] in this question.\n",
    "\n",
    "There is also a number of each kind of denomination on hand, provided in a list called *multiplicities*, for instance [1, 3, 2, 3, 7], which means that there is one 1€ coin, three 5€ notes, two 10€ notes, three 20€ notes, and seven 100€ notes. The lists *denominations* and *multiplicities* will always have the same size.\n",
    "\n",
    "A series of customers need to get their change back and we want to know if there is adequate denominations and multiplicities in the cash register to give them all change. The *change_amounts* list contains these change amounts in euro (€). For example [12,30,5] means that changes of 12€, 30€, and 5€ have been requested.\n",
    "\n",
    "To formalise, the input of the program that you need to write is:\n",
    "* A list of $k$ denominations, always equal to [1, 5, 10, 20, 100] in our case.\n",
    "* A list of $k$ non-negative multiplicities (e.g. [1, 3, 2, 3, 7]).\n",
    "* A list of $n$ values, where each value is a positive integer (e.g. [12,30,5])\n",
    "\n",
    "The output is:\n",
    "* True if the vending machine can provide the exact changes, False otherwise.\n",
    "\n",
    "The runtime complexity of your algorithm should be in $O(k n)$."
   ]
  },
  {
   "cell_type": "markdown",
   "metadata": {
    "colab_type": "text",
    "id": "nstWDhNpnNJN"
   },
   "source": [
    "## Q1.1 (18 marks)\n",
    "Program your algorithm below.\n",
    "Your program MUST use the code provided."
   ]
  },
  {
   "cell_type": "code",
   "execution_count": 1,
   "metadata": {
    "colab": {},
    "colab_type": "code",
    "id": "dsxBhvKFCW4Y"
   },
   "outputs": [],
   "source": [
    "def change_feasible(denominations, multiplicities, change_amounts ):\n",
    "    assert len(denominations) == len(multiplicities)\n",
    "    \n",
    "    #we make local copies so we can change these lists within the function\n",
    "    multiplicities = multiplicities.copy()\n",
    "    change_amounts = change_amounts.copy()\n",
    "    #Largest index is to know out of the available denominations at which index is the maximum denomination present. \n",
    "    largestIndex = len(multiplicities) - 1\n",
    "    for each in change_amounts:\n",
    "        #This loop will run for each entries in the change amount\n",
    "        index = largestIndex\n",
    "        while(each > 0):\n",
    "            #This loop will run until a valid change is provided for the current entry or\n",
    "            # till there is no option to provide change\n",
    "            if(index < 0):\n",
    "                #Case when there is no option to provide any change for the current amount\n",
    "                return False\n",
    "            if(each/denominations[index] > 0):\n",
    "                #Finding the maximum applicaple denomination in each case and applying those denominations\n",
    "                times =int(each/denominations[index]) \n",
    "                if(times <= multiplicities[index]):\n",
    "                    each -= denominations[index]*times\n",
    "                    multiplicities[index] -=times\n",
    "                else:\n",
    "                    each -=denominations[index]*multiplicities[index]\n",
    "                    multiplicities[index] = 0\n",
    "                    if(index == largestIndex):\n",
    "                        #reseting the largest index to one step previous denominations index as current maximum denomination\n",
    "                        #has been completely used up\n",
    "                        largestIndex -=1\n",
    "            index -=1\n",
    "    return True"
   ]
  },
  {
   "cell_type": "markdown",
   "metadata": {
    "colab_type": "text",
    "id": "cswNCKysR-n1"
   },
   "source": [
    "We provide unit testing, which your algorithm MUST pass. Do not edit the unit test class below except to help debug your program. Then restore it to what its original version. For reference, the solution code runs these tests in 0.15 seconds. If your code does not run in under a second, you are probably doing something incorrect, and your algorithm might not be in $O(k n)$."
   ]
  },
  {
   "cell_type": "code",
   "execution_count": 2,
   "metadata": {
    "colab": {},
    "colab_type": "code",
    "id": "IjmiRYVzCW4f"
   },
   "outputs": [
    {
     "name": "stderr",
     "output_type": "stream",
     "text": [
      ".....\n",
      "----------------------------------------------------------------------\n",
      "Ran 5 tests in 0.126s\n",
      "\n",
      "OK\n"
     ]
    },
    {
     "data": {
      "text/plain": [
       "<unittest.runner.TextTestResult run=5 errors=0 failures=0>"
      ]
     },
     "execution_count": 2,
     "metadata": {},
     "output_type": "execute_result"
    }
   ],
   "source": [
    "import unittest\n",
    "from operator import add\n",
    "import random\n",
    "random.seed(a=0)\n",
    "\n",
    "class TestChangeFeasible(unittest.TestCase):\n",
    "    def setUp(self):\n",
    "      self.denominations = [1, 5, 10, 20, 100]\n",
    "      self.multiplicities = []\n",
    "    \n",
    "    def checkFeasible(self, boolean, changes):\n",
    "        if boolean:\n",
    "            possible = \"possible\"\n",
    "        else:\n",
    "            possible = \"impossible\"\n",
    "        msg = \"it should be {} to give the change {} given multiplicities {}.\".format(possible, changes, self.multiplicities)\n",
    "        self.assertEqual(boolean, change_feasible(self.denominations, self.multiplicities, changes), msg)\n",
    "        \n",
    "    def testEmpty(self):\n",
    "        self.multiplicities = [0, 0, 0, 0, 0]\n",
    "        self.checkFeasible(True, [])\n",
    "        self.checkFeasible(True, [0])\n",
    "        self.checkFeasible(False, [1])\n",
    "        self.checkFeasible(False, [1, 2, 5])\n",
    "        \n",
    "    def testSingle(self):\n",
    "        for i in range(len(self.denominations)):\n",
    "            self.multiplicities = [0, 0, 0, 0, 0]\n",
    "            self.multiplicities[i] = 1\n",
    "            self.checkFeasible(True, [self.denominations[i]])\n",
    "            self.checkFeasible(False, [2*self.denominations[i]])\n",
    "\n",
    "    def testMultiple(self):\n",
    "        constant = 10\n",
    "        for i in range(len(self.denominations)):\n",
    "            self.multiplicities = [0, 0, 0, 0, 0]\n",
    "            self.multiplicities[i] = constant\n",
    "            for mult in range(constant+1):\n",
    "                self.checkFeasible(True, [mult*self.denominations[i]])\n",
    "            self.checkFeasible(False, [(constant+1)*self.denominations[i]])\n",
    "            \n",
    "    def generateChangeAndMults(self, denomination_mask, max_multiple = 10):\n",
    "        change = 0\n",
    "        change_multiplicities = []\n",
    "        for i in range(len(self.denominations)):\n",
    "            mult = 0\n",
    "            if denomination_mask[i]:\n",
    "                mult = random.randint(1, max_multiple)\n",
    "                change += mult * self.denominations[i]\n",
    "            change_multiplicities.append(mult)\n",
    "        return change, change_multiplicities\n",
    "                \n",
    "            \n",
    "    def makeSingleChange(self):\n",
    "        max_different_denominations = random.randint(1, len(self.denominations))\n",
    "        which_denominations = random.sample(self.denominations, max_different_denominations)\n",
    "        which_denominations.sort()\n",
    "        \n",
    "        denomination_mask = []\n",
    "        for denom in self.denominations:\n",
    "            denomination_mask.append(denom in which_denominations)\n",
    "            \n",
    "        return self.generateChangeAndMults(denomination_mask)\n",
    "\n",
    "    def testSingleChange(self):\n",
    "        number_tests = 100\n",
    "        for _ in range(number_tests):\n",
    "            change, change_multiplicities = self.makeSingleChange()\n",
    "            self.multiplicities = change_multiplicities\n",
    "            self.checkFeasible(True, [change])\n",
    "            self.checkFeasible(False, [change+1])\n",
    "            \n",
    "    def testMultipleChange(self):\n",
    "        max_test_size = 100\n",
    "        for test_size in range(1, max_test_size):\n",
    "            changes = []\n",
    "            self.multiplicities = [0, 0, 0, 0, 0]\n",
    "            for _ in range(test_size):\n",
    "                change, change_multiplicities = self.makeSingleChange()\n",
    "                changes.append(change)\n",
    "                self.multiplicities = list(map(add, self.multiplicities, change_multiplicities))\n",
    "                \n",
    "            random.shuffle(changes)\n",
    "            self.checkFeasible(True, changes)\n",
    "            changes[0] += random.sample(self.denominations, 1)[0]\n",
    "            self.checkFeasible(False, changes)\n",
    "\n",
    "testlist = TestChangeFeasible()\n",
    "suite = unittest.TestLoader().loadTestsFromModule(testlist)\n",
    "unittest.TextTestRunner().run(suite)"
   ]
  },
  {
   "cell_type": "markdown",
   "metadata": {
    "colab_type": "text",
    "id": "otNFfSo0nnKe"
   },
   "source": [
    "## Q1.2 (2 marks)\n",
    "Show that your algorithm is in $O(kn)$"
   ]
  },
  {
   "cell_type": "markdown",
   "metadata": {},
   "source": [
    "The first for loop will run for each elements in changeAmouts. Since the size of change amount is n this loop will run for n iterations. Within that for loop there is another loop which will run either till current change amount gets zero or till we have processed each and every denominations. The size of denominations is k. So in the worst case this whole code will run for n*k times. Since there is no other loops the overall worst case complexity is **O(kn)**"
   ]
  },
  {
   "cell_type": "code",
   "execution_count": null,
   "metadata": {},
   "outputs": [],
   "source": []
  }
 ],
 "metadata": {
  "colab": {
   "collapsed_sections": [],
   "name": "FIT5211_2019_S2_Assignment_1_Q1_v2.ipynb",
   "provenance": [],
   "version": "0.3.2"
  },
  "kernelspec": {
   "display_name": "Python 3",
   "language": "python",
   "name": "python3"
  },
  "language_info": {
   "codemirror_mode": {
    "name": "ipython",
    "version": 3
   },
   "file_extension": ".py",
   "mimetype": "text/x-python",
   "name": "python",
   "nbconvert_exporter": "python",
   "pygments_lexer": "ipython3",
   "version": "3.6.5"
  }
 },
 "nbformat": 4,
 "nbformat_minor": 1
}
