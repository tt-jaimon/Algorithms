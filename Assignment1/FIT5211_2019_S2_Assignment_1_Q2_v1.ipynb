{
 "cells": [
  {
   "cell_type": "markdown",
   "metadata": {},
   "source": [
    "### Name: Jaimon Thyparambil Thomas\n",
    "### StudentID: 29566428\n",
    "### Date: 20/9/2019"
   ]
  },
  {
   "cell_type": "markdown",
   "metadata": {},
   "source": [
    "# Question 2: Recursively evaluating a mathematical expression (15 marks)\n",
    "\n",
    "A mathematical expression is a combination of symbols (numbers, operations, etc). In this question, we limit the mathematical expressions that we consider to those that are a single number and those that take the form \"(expression) operator (expression)\", for instance \"9\", \"4 + 5\", \"(12/3) + 5\" or \"(12/3) + (6-1)\". We will represent these in Python using lists, where one list will contain a single expression:\n",
    "* \"9\" is [9]\n",
    "* \"4 + 5\" is [[4], plus, [5]]\n",
    "* \"(12/3) + 5\" is [[[12], divide, [3]], plus, [5]]\n",
    "* \"(12/3) + (6-1)\" is [[[12], divide, [3]], plus, [[6], minus, [1]]]\n",
    "As you can see we can have nested lists to represent nested expressions. The possible operations are *plus*, *minus*, *divide* and *multiply*, which correspond to the Python functions below:"
   ]
  },
  {
   "cell_type": "code",
   "execution_count": 1,
   "metadata": {},
   "outputs": [],
   "source": [
    "def plus(a,b):\n",
    "    return [a[0] + b[0]]\n",
    "\n",
    "def minus(a,b):\n",
    "    return [a[0] - b[0]]\n",
    "\n",
    "def divide(a,b):\n",
    "    return [a[0] / b[0]]\n",
    "\n",
    "def multiply(a,b):\n",
    "    return [a[0] * b[0]]"
   ]
  },
  {
   "cell_type": "markdown",
   "metadata": {},
   "source": [
    "We can now use these function names as normal variable names:"
   ]
  },
  {
   "cell_type": "code",
   "execution_count": 2,
   "metadata": {},
   "outputs": [],
   "source": [
    "expression = [[4], plus, [5]]"
   ]
  },
  {
   "cell_type": "markdown",
   "metadata": {},
   "source": [
    "We can evaluate these expressions:"
   ]
  },
  {
   "cell_type": "code",
   "execution_count": 3,
   "metadata": {},
   "outputs": [
    {
     "data": {
      "text/plain": [
       "[9]"
      ]
     },
     "execution_count": 3,
     "metadata": {},
     "output_type": "execute_result"
    }
   ],
   "source": [
    "expression[1](expression[0], expression[2])"
   ]
  },
  {
   "cell_type": "markdown",
   "metadata": {},
   "source": [
    "The line above simply calls plus with arguments 4 and 5."
   ]
  },
  {
   "cell_type": "markdown",
   "metadata": {},
   "source": [
    "Here's a more complicated example:"
   ]
  },
  {
   "cell_type": "code",
   "execution_count": 4,
   "metadata": {},
   "outputs": [],
   "source": [
    "expression = [[[12], divide, [3]], plus, [5]]"
   ]
  },
  {
   "cell_type": "code",
   "execution_count": 5,
   "metadata": {},
   "outputs": [
    {
     "name": "stdout",
     "output_type": "stream",
     "text": [
      "[4.0]\n"
     ]
    }
   ],
   "source": [
    "expression[0] = expression[0][1](expression[0][0], expression[0][2])\n",
    "print(expression[0])"
   ]
  },
  {
   "cell_type": "markdown",
   "metadata": {},
   "source": [
    "The lines above have simplied the nested expression into a non-nested expression:"
   ]
  },
  {
   "cell_type": "code",
   "execution_count": 6,
   "metadata": {},
   "outputs": [
    {
     "name": "stdout",
     "output_type": "stream",
     "text": [
      "[[4.0], <function plus at 0x000001BEC7917B70>, [5]]\n"
     ]
    }
   ],
   "source": [
    "print(expression)"
   ]
  },
  {
   "cell_type": "markdown",
   "metadata": {},
   "source": [
    "Notice how the *plus* function in our expression is printed by Python."
   ]
  },
  {
   "cell_type": "markdown",
   "metadata": {},
   "source": [
    "We can now evaluate this expression as we have with the first one."
   ]
  },
  {
   "cell_type": "code",
   "execution_count": 7,
   "metadata": {},
   "outputs": [
    {
     "data": {
      "text/plain": [
       "[9.0]"
      ]
     },
     "execution_count": 7,
     "metadata": {},
     "output_type": "execute_result"
    }
   ],
   "source": [
    "expression[1](expression[0], expression[2])"
   ]
  },
  {
   "cell_type": "markdown",
   "metadata": {},
   "source": [
    "The goal of this question is to write a program which can evaluate such nested mathematical expressions."
   ]
  },
  {
   "cell_type": "markdown",
   "metadata": {},
   "source": [
    "Write a recursive program which can evaluate expressions as described above, and returns a list containing a single number. Your program MUST use the code we provide."
   ]
  },
  {
   "cell_type": "code",
   "execution_count": 8,
   "metadata": {},
   "outputs": [],
   "source": [
    "def recursive_expr_eval(expr):\n",
    "    assert len(expr) == 1 or len(expr) == 3\n",
    "    #TODO write the rest of the program below\n",
    "    if(len(expr) == 1):\n",
    "        return expr\n",
    "    else:\n",
    "        return expr[1](recursive_expr_eval(expr[0]),recursive_expr_eval(expr[2]))"
   ]
  },
  {
   "cell_type": "markdown",
   "metadata": {},
   "source": [
    "Use the assertions below to test your code:"
   ]
  },
  {
   "cell_type": "code",
   "execution_count": 9,
   "metadata": {},
   "outputs": [],
   "source": [
    "assert recursive_expr_eval([9]) == [9]"
   ]
  },
  {
   "cell_type": "code",
   "execution_count": 10,
   "metadata": {},
   "outputs": [],
   "source": [
    "assert recursive_expr_eval([[[12], divide, [3]], plus, [5]]) == [9.0]"
   ]
  },
  {
   "cell_type": "code",
   "execution_count": 11,
   "metadata": {},
   "outputs": [],
   "source": [
    "expression1 = [[[12], divide, [3]], plus, [[6], minus, [1]]]\n",
    "expression2 = [[[5], plus, [12]], multiply, [[3], plus, [0]]]\n",
    "expressionplus = [expression1, plus, expression2]\n",
    "expressionminus = [expression1, minus, expression2]\n",
    "expressiondivide = [expression1, divide, expression2]\n",
    "expressionmultiply = [expression1, multiply, expression2]"
   ]
  },
  {
   "cell_type": "code",
   "execution_count": 12,
   "metadata": {},
   "outputs": [
    {
     "data": {
      "text/plain": [
       "[9.0]"
      ]
     },
     "execution_count": 12,
     "metadata": {},
     "output_type": "execute_result"
    }
   ],
   "source": [
    "recursive_expr_eval(expression1)"
   ]
  },
  {
   "cell_type": "code",
   "execution_count": 13,
   "metadata": {},
   "outputs": [
    {
     "data": {
      "text/plain": [
       "[51]"
      ]
     },
     "execution_count": 13,
     "metadata": {},
     "output_type": "execute_result"
    }
   ],
   "source": [
    "recursive_expr_eval(expression2)"
   ]
  },
  {
   "cell_type": "code",
   "execution_count": 14,
   "metadata": {},
   "outputs": [],
   "source": [
    "assert recursive_expr_eval(expressionplus) == [60.0]"
   ]
  },
  {
   "cell_type": "code",
   "execution_count": 15,
   "metadata": {},
   "outputs": [],
   "source": [
    "assert recursive_expr_eval(expressionminus) == [-42.0]"
   ]
  },
  {
   "cell_type": "code",
   "execution_count": 16,
   "metadata": {},
   "outputs": [],
   "source": [
    "assert recursive_expr_eval(expressiondivide) <= [0.17648]\n",
    "assert recursive_expr_eval(expressiondivide) >= [0.17647]"
   ]
  },
  {
   "cell_type": "code",
   "execution_count": 17,
   "metadata": {},
   "outputs": [],
   "source": [
    "assert recursive_expr_eval(expressionmultiply) == [459.0]"
   ]
  },
  {
   "cell_type": "code",
   "execution_count": null,
   "metadata": {},
   "outputs": [],
   "source": []
  }
 ],
 "metadata": {
  "colab": {
   "collapsed_sections": [],
   "name": "FIT5211_2019_S2_Assignment_1_v1.ipynb",
   "provenance": [],
   "version": "0.3.2"
  },
  "kernelspec": {
   "display_name": "Python 3",
   "language": "python",
   "name": "python3"
  },
  "language_info": {
   "codemirror_mode": {
    "name": "ipython",
    "version": 3
   },
   "file_extension": ".py",
   "mimetype": "text/x-python",
   "name": "python",
   "nbconvert_exporter": "python",
   "pygments_lexer": "ipython3",
   "version": "3.6.5"
  }
 },
 "nbformat": 4,
 "nbformat_minor": 4
}
