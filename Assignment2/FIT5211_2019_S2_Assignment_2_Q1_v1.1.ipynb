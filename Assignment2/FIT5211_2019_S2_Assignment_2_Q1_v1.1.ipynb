{
 "cells": [
  {
   "cell_type": "markdown",
   "metadata": {},
   "source": [
    "### Name: Jaimon Thyparambil Thomas\n",
    "### StudentID: 29566428\n",
    "### Date: 20/10/2019"
   ]
  },
  {
   "cell_type": "markdown",
   "metadata": {},
   "source": [
    "# Q1 Sorting with duplicates (30 marks)"
   ]
  },
  {
   "cell_type": "markdown",
   "metadata": {
    "colab_type": "text",
    "id": "xY6qc3qcQqYm"
   },
   "source": [
    "The input is a unsorted list of non-negative real numbers. The list has size $n$, and there are $k \\leq n$ different numbers in that list (i.e. there may be duplicates)."
   ]
  },
  {
   "cell_type": "markdown",
   "metadata": {
    "colab_type": "text",
    "id": "uH9vSQm1QqYr"
   },
   "source": [
    "## Q1.1 (25 marks)\n",
    "Design and implement an algorithm which can sort this list and has *average* runtime in $O(n \\log k)$. You may only use the Python $list$ container, and no other (so no dictionary, no set, etc). You may not use an existing implementation of a sorting algorithm (including Python's). If you feel that it is needed, you can write your own implementation of a sorting algorithm. Any other data structure that you need has to be implemented here as well. For reference, the solution code is less than 40 lines long."
   ]
  },
  {
   "cell_type": "code",
   "execution_count": 65,
   "metadata": {},
   "outputs": [],
   "source": [
    "#this class is a modiified version of AVL Tree\n",
    "class binarySearchTreeAVL:\n",
    "    def __init__(self,data=None,parent=None):\n",
    "        self.data = data\n",
    "        self.parent = parent\n",
    "        self.frequency = 1 #Variable used to count the no of duplicates\n",
    "        self.left = None\n",
    "        self.right = None\n",
    "        self.balanceFactor = 0\n",
    "        return\n",
    "    \n",
    "    def isLeftChild(self):\n",
    "        return self.parent!=None and self.parent.left == self\n",
    "\n",
    "    def isRightChild(self):\n",
    "        return self.parent!=None and self.parent.right == self\n",
    "    \n",
    "    def setData(self,data,parent = None):\n",
    "        self.data = data\n",
    "        self.parent = parent\n",
    "        return\n",
    "    \n",
    "    def incrementFrequency(self):\n",
    "        self.frequency += 1\n",
    "    \n",
    "    #This function does inorder traversal\n",
    "    def getSortedList(self):\n",
    "        if(self.data == None):\n",
    "            return []\n",
    "        res = []\n",
    "        if(self.left != None):\n",
    "            res = self.left.getSortedList()\n",
    "        res.extend([self.data]*self.frequency)\n",
    "        if(self.right != None):\n",
    "            res.extend(self.right.getSortedList())\n",
    "        return res\n",
    "    \n",
    "    def add(self,data,curParent=None):\n",
    "        if(self.data == None):\n",
    "            self.setData(data,parent = curParent)\n",
    "        elif(self.data == data):\n",
    "            #if value is already present the that means current value that we are considerin now is a duplicate value \n",
    "            #so we are incrementing its count\n",
    "            self.incrementFrequency() \n",
    "        elif(data < self.data):\n",
    "            if(self.left == None):\n",
    "                self.left = binarySearchTreeAVL(data,self)\n",
    "                self.updateBalance(self.left)#since a new node is been added we have to update balance of nodes based on it\n",
    "            else:\n",
    "                self.left.add(data)\n",
    "        else:\n",
    "            if(self.right == None):\n",
    "                self.right = binarySearchTreeAVL(data,self)\n",
    "                self.updateBalance(self.right)#since a new node is been added we have to update balance of nodes based on it\n",
    "            else:\n",
    "                self.right.add(data)\n",
    "        return\n",
    "    \n",
    "    def getRoot(self):\n",
    "        if(self.parent!=None):\n",
    "            return self.parent.getRoot()\n",
    "        return self\n",
    "    \n",
    "    def updateBalance(self,node):\n",
    "        if node.balanceFactor > 1 or node.balanceFactor < -1:\n",
    "            self.rebalance(node)\n",
    "            return\n",
    "        if node.parent != None:\n",
    "            if node.isLeftChild():\n",
    "                    node.parent.balanceFactor += 1\n",
    "            elif node.isRightChild():\n",
    "                    node.parent.balanceFactor -= 1\n",
    "\n",
    "            if node.parent.balanceFactor != 0:\n",
    "                    self.updateBalance(node.parent)\n",
    "                    \n",
    "    def rotateRight(self,rotRoot):\n",
    "        newRoot = rotRoot.left\n",
    "        rotRoot.left = newRoot.right\n",
    "        if newRoot.right != None:\n",
    "            newRoot.right.parent = rotRoot\n",
    "        newRoot.parent = rotRoot.parent\n",
    "        if rotRoot.isLeftChild():\n",
    "            rotRoot.parent.left = newRoot\n",
    "        elif rotRoot.isRightChild():\n",
    "            rotRoot.parent.right = newRoot\n",
    "        newRoot.right = rotRoot\n",
    "        rotRoot.parent = newRoot\n",
    "        rotRoot.balanceFactor = rotRoot.balanceFactor - 1 - max(newRoot.balanceFactor, 0)\n",
    "        newRoot.balanceFactor = newRoot.balanceFactor - 1 + min(rotRoot.balanceFactor, 0)\n",
    "    \n",
    "    def rotateLeft(self,rotRoot):\n",
    "        newRoot = rotRoot.right\n",
    "        rotRoot.right = newRoot.left\n",
    "        if newRoot.left != None:\n",
    "            newRoot.left.parent = rotRoot\n",
    "        newRoot.parent = rotRoot.parent\n",
    "        if rotRoot.isLeftChild():\n",
    "            rotRoot.parent.left = newRoot\n",
    "        elif rotRoot.isRightChild():\n",
    "            rotRoot.parent.right = newRoot\n",
    "        newRoot.left = rotRoot\n",
    "        rotRoot.parent = newRoot\n",
    "        rotRoot.balanceFactor = rotRoot.balanceFactor + 1 - min(newRoot.balanceFactor, 0)\n",
    "        newRoot.balanceFactor = newRoot.balanceFactor + 1 + max(rotRoot.balanceFactor, 0)\n",
    "        \n",
    "    def rebalance(self,node):\n",
    "        if node.balanceFactor < 0:\n",
    "            if node.right!= None and node.right.balanceFactor > 0:\n",
    "                #handling Left-Right Case\n",
    "                self.rotateRight(node.right)\n",
    "                self.rotateLeft(node)\n",
    "            else:\n",
    "                #Handling Left-Left case\n",
    "                self.rotateLeft(node)\n",
    "        elif node.balanceFactor > 0:\n",
    "            if node.left!= None and node.left.balanceFactor < 0:\n",
    "                #Handling Right-Left case\n",
    "                self.rotateLeft(node.left)\n",
    "                self.rotateRight(node)\n",
    "            else:\n",
    "                #Handling Right-Right Case\n",
    "                self.rotateRight(node)\n",
    "     \n",
    "    def addList(self,l):\n",
    "        for each in l:\n",
    "            root = self.getRoot()#has a time complexity of O(logk)\n",
    "            root.add(each)\n",
    "        return\n",
    "\n",
    "def sortlist(l):\n",
    "    temp = binarySearchTreeAVL()\n",
    "    temp.addList(l)\n",
    "    return temp.getRoot().getSortedList()"
   ]
  },
  {
   "cell_type": "markdown",
   "metadata": {
    "colab_type": "text",
    "id": "fTIygw42QqZS"
   },
   "source": [
    "We provide unit tests below. Your implementation must pass all tests to get full marks. For reference, the solution code runs in less than a minute. If your code requires a significant longer time to run, then it may be bugged, or your algorithm may not have an average runtime in $O(n \\log k)$."
   ]
  },
  {
   "cell_type": "code",
   "execution_count": 66,
   "metadata": {
    "colab": {},
    "colab_type": "code",
    "id": "GnmYKzKrQqZW"
   },
   "outputs": [],
   "source": [
    "import unittest\n",
    "import random\n",
    "import math\n",
    "random.seed(a=0)\n",
    "\n",
    "class Testsortlist(unittest.TestCase):\n",
    "    def setUp(self):\n",
    "        self.numbers = [math.sqrt(i) for i in random.sample(range(10000000), 1000)]\n",
    "        self.ntests = 100\n",
    "    \n",
    "    def checklist(self, l):\n",
    "        check = sortlist(l)\n",
    "        l.sort()\n",
    "        self.assertEqual(l, check)\n",
    "        \n",
    "    def testEmpty(self):\n",
    "        self.checklist([])\n",
    "        \n",
    "    def testSingle(self):\n",
    "        self.checklist([0])\n",
    "        \n",
    "    def testNoMult(self):\n",
    "        for _ in range(self.ntests):\n",
    "            self.checklist(random.sample(self.numbers, len(self.numbers)//2))\n",
    "            \n",
    "    def testkMult(self):\n",
    "        for k in [2, 5, 10, 100]:\n",
    "            for _ in range(self.ntests):\n",
    "                self.checklist(random.choices(self.numbers, k=k*len(self.numbers)))"
   ]
  },
  {
   "cell_type": "code",
   "execution_count": 67,
   "metadata": {
    "colab": {},
    "colab_type": "code",
    "id": "i2tUAQs_QqZj"
   },
   "outputs": [
    {
     "name": "stderr",
     "output_type": "stream",
     "text": [
      "....\n",
      "----------------------------------------------------------------------\n",
      "Ran 4 tests in 52.765s\n",
      "\n",
      "OK\n"
     ]
    },
    {
     "data": {
      "text/plain": [
       "<unittest.runner.TextTestResult run=4 errors=0 failures=0>"
      ]
     },
     "execution_count": 67,
     "metadata": {},
     "output_type": "execute_result"
    }
   ],
   "source": [
    "testlist = Testsortlist()\n",
    "suite = unittest.TestLoader().loadTestsFromModule(testlist)\n",
    "unittest.TextTestRunner().run(suite)"
   ]
  },
  {
   "cell_type": "markdown",
   "metadata": {
    "colab_type": "text",
    "id": "faxNJzv_QqZv"
   },
   "source": [
    "## Q1.2 (5 marks)"
   ]
  },
  {
   "cell_type": "markdown",
   "metadata": {},
   "source": [
    "Since this is a balance tree with k nodes height of this tree is log(k). So inorder to search where an element should be entered it will take $O(log(k))$ times. So for entering n elements it will take $O(nlog(k))$ time in the worst case. where k is the total no of distinct elements out of n elements. Once the tree is been created inorder to get the sorted list we just have to do inorder traversal in the tree which will take a time complexity of $O(n)$. So overall time complexity = $O(n + nlogk) = O(nlogk)$ . Best case of this algorithm is O(n) when there is just one element and all the elements are duplicates. To create a list of size n will take a time complexity of n. So the average case should alos be $O(nlog(k))$ \n",
    "\n",
    "Space complexity of this algorithm will be 6k as there are 6 variables in this class and there will be k nodes"
   ]
  }
 ],
 "metadata": {
  "colab": {
   "name": "FIT5211_2019_S2_Assignment_2_Q1_v1.0.ipynb",
   "provenance": []
  },
  "kernelspec": {
   "display_name": "Python 3",
   "language": "python",
   "name": "python3"
  },
  "language_info": {
   "codemirror_mode": {
    "name": "ipython",
    "version": 3
   },
   "file_extension": ".py",
   "mimetype": "text/x-python",
   "name": "python",
   "nbconvert_exporter": "python",
   "pygments_lexer": "ipython3",
   "version": "3.6.5"
  }
 },
 "nbformat": 4,
 "nbformat_minor": 1
}
