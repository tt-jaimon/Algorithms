{
 "cells": [
  {
   "cell_type": "markdown",
   "metadata": {},
   "source": [
    "### Name: Jaimon Thyparambil Thomas\n",
    "### StudentID: 29566428\n",
    "### Date: 20/10/2019"
   ]
  },
  {
   "cell_type": "markdown",
   "metadata": {},
   "source": [
    "# Q2 Contaminated nodes in a tree (25 marks)"
   ]
  },
  {
   "cell_type": "markdown",
   "metadata": {
    "colab_type": "text",
    "id": "dhS65cT3SoyU"
   },
   "source": [
    "You are given a tree $T$ with a set of nodes $V$. \n",
    "The tree $T$ can have arbitrary degree, i.e. nodes can have arbitrarily many children.\n",
    "A subset of the nodes of $V$, called $C$, is *contaminated*.\n",
    "The other nodes, called $P$, contain a *population*.\n",
    "Hence every node either belongs to the set $C$ or $P$.\n",
    "A population node in $P$ is *safe* if it is not connected to a contaminated node in $C$, i.e. there exists no path between the population node and any contaminated node. \n",
    "\n",
    "Your task is to find the minimum number of edges of the tree $T$ that must be cut (i.e. deleted) such that all population nodes are safe.\n",
    "\n",
    "Examples are provided in the unit tests."
   ]
  },
  {
   "cell_type": "markdown",
   "metadata": {
    "colab_type": "text",
    "id": "3fSI6pngSoyX"
   },
   "source": [
    "## Q2.1 (5 marks)\n",
    "Describe an algorithm to solve this problem. An unclear or unspecific description will get 0 marks. There is no constraint on the type of algorthm to use, but more efficient algorithms get more marks."
   ]
  },
  {
   "cell_type": "markdown",
   "metadata": {
    "colab_type": "text",
    "id": "MJPl7pbcSoyb"
   },
   "source": [
    "Here what we are required is to find the total no of edges between the population node and the contaminated node. So Where ever the parent node is different from the child node that means there a cut is required inorder to save the population node. So inorder to find the minimum no of cuts we just have to find the total no of edges where the parent node and the child node are different. So for that we can use Depth First Search (DFS) traversal through the tree and check where the parent is different from the child"
   ]
  },
  {
   "cell_type": "markdown",
   "metadata": {
    "colab_type": "text",
    "id": "-C_XZGwkSoyf"
   },
   "source": [
    "## Q2.2 (5 marks)\n",
    "What is the worst-case runtime complexity of your algorithm? Explain."
   ]
  },
  {
   "cell_type": "markdown",
   "metadata": {
    "colab_type": "text",
    "id": "l7IYmVS8Soyr"
   },
   "source": [
    "The time complexity of this algorithm is always $O(n)$ as in all cases each and every node of the tree is being processed once to check whether the parent and the child node are different. So the worst case complexity is also $O(n)$"
   ]
  },
  {
   "cell_type": "markdown",
   "metadata": {
    "colab_type": "text",
    "id": "7PYebJY2Soyv"
   },
   "source": [
    "## Q2.3 (15 marks)\n",
    "Implement below the algorithm you have described above, with the complexity to match.\n",
    "\n",
    "For this question we provide a class *Node* to store the problem data. You can expand this class but you cannot change the existing variables. In particular it may prove useful to write an  *\\_\\_str\\_\\_* method to help with potential debugging. The method *\\_\\_str\\_\\_* itself will not be marked."
   ]
  },
  {
   "cell_type": "code",
   "execution_count": 5,
   "metadata": {
    "colab": {},
    "colab_type": "code",
    "id": "Ajf8PI5eSoy0"
   },
   "outputs": [],
   "source": [
    "class Node:\n",
    "    def __init__(self, contaminated=False):\n",
    "        self.children = []\n",
    "        self.contaminated = contaminated\n",
    "        \n",
    "    def addChild(self, node):\n",
    "        self.children.append(node)\n",
    "     \n",
    "    #here the parent node indicates whether the current nodes parent node is contaminated or not\n",
    "    def minCost(self,parent=None):\n",
    "        count = 0\n",
    "        for each in self.children:\n",
    "            #iterating through each and every chidren of the current node\n",
    "            count += each.minCost(self.contaminated)\n",
    "        if(parent!=None and parent == False and self.contaminated == True):\n",
    "            count += 1\n",
    "        elif(parent!=None and parent == True and self.contaminated == False):\n",
    "            count+=1\n",
    "        return count"
   ]
  },
  {
   "cell_type": "markdown",
   "metadata": {
    "colab_type": "text",
    "id": "XKu2VS3gSoy_"
   },
   "source": [
    "Implement your algorithm below:"
   ]
  },
  {
   "cell_type": "code",
   "execution_count": 6,
   "metadata": {
    "colab": {},
    "colab_type": "code",
    "id": "vrSPK5kISozC"
   },
   "outputs": [],
   "source": [
    "def mincosttosave(tree):\n",
    "    return tree.minCost()"
   ]
  },
  {
   "cell_type": "markdown",
   "metadata": {
    "colab_type": "text",
    "id": "JrE6i7RxSozN"
   },
   "source": [
    "We provide unit tests below. Your implementation must pass all tests to get full marks. For reference, the solution code runs in less than .1 second. If your code requires a significant longer time to run, then it may be bugged, or your algorithm may not be very efficient."
   ]
  },
  {
   "cell_type": "code",
   "execution_count": 7,
   "metadata": {
    "colab": {},
    "colab_type": "code",
    "id": "Yf-PCHtfSozP"
   },
   "outputs": [],
   "source": [
    "import unittest\n",
    "\n",
    "class TestSaveTree(unittest.TestCase):\n",
    "    def setUp(self):\n",
    "        pass\n",
    "    \n",
    "    def checkcost(self, tree, val):\n",
    "        msg = \"It should cost exactly {} to save all nodes in the tree:\\n {}.\".format(val, tree)\n",
    "        self.assertEqual(val, mincosttosave(tree), msg=msg)\n",
    "        \n",
    "    def testSingle(self):\n",
    "         self.checkcost(Node(False), 0)\n",
    "            \n",
    "    def testTwo(self):\n",
    "        #A single edge with no C\n",
    "        for top in [False, True]:\n",
    "            for left in [False, True]:\n",
    "                root = Node(top)\n",
    "                child = Node(left)\n",
    "                root.addChild(child)\n",
    "                self.checkcost(root, int(top is not left))\n",
    "                \n",
    "    def testTriangle(self):\n",
    "        #a root with two children\n",
    "        for top in [False, True]:\n",
    "            for left in [False, True]:\n",
    "                for right in [False, True]:\n",
    "                    root = Node(top)\n",
    "                    leftchild = Node(left)\n",
    "                    rightchild = Node(right)\n",
    "                    root.addChild(leftchild)\n",
    "                    root.addChild(rightchild)\n",
    "                    self.checkcost(root, int(top is not left)+int(top is not right))\n",
    "\n",
    "    def buildtree(self, nodelist, degree=2):\n",
    "        nodes = [Node(c) for c in nodelist]\n",
    "        for i in range(1,len(nodes)):\n",
    "            nodes[(i-1)//degree].addChild(nodes[i])\n",
    "        return nodes[0]\n",
    "\n",
    "    def testSmallDeg2(self):\n",
    "        tests = []\n",
    "        degree = 2\n",
    "        tests.append(([True, True, True, False], 1))\n",
    "        tests.append(([True, False, True, False], 1))\n",
    "        tests.append(([False, False, False, False], 0))\n",
    "        tests.append(([True, False, False, False], 2))\n",
    "        tests.append(([True, True, False, True, True, True, False, True], 2))\n",
    "        tests.append(([False, False, True, False, True, True, False, True], 4))\n",
    "        tests.append(([True, True, True, False, False, False, False, True], 5))\n",
    "        tests.append(([False, False, True, True, False, False, True, True], 3))\n",
    "        tests.append(([True, False, True, False, False, True, True, False], 1))\n",
    "        for test in tests:\n",
    "            tree = self.buildtree(test[0], degree)\n",
    "            self.checkcost(tree, test[1])\n",
    "            \n",
    "    def testSmallDeg3(self):\n",
    "        tests = []\n",
    "        degree = 3\n",
    "        tests.append(([True, True, False, True, False, False, True, False], 3))\n",
    "        tests.append(([False, False, True, False, False, False, True, False], 3))\n",
    "        tests.append(([True, True, False, True, False, True, True, False], 2))\n",
    "        tests.append(([False, True, False, True, False, False, True, False], 4))        \n",
    "        tests.append(([False, False, True, False, True, True, True, False], 5))\n",
    "        tests.append(([True, False, False, False, True, False, True, True], 6))\n",
    "        for test in tests:\n",
    "            tree = self.buildtree(test[0], degree)\n",
    "            self.checkcost(tree, test[1])\n",
    "            \n",
    "    def testSmallDeg5(self):\n",
    "        tests = []\n",
    "        degree = 5\n",
    "        tests.append(([True, True, False, True, False, True, False, True, True, False, False, True, True, True, False, True, False, True, True, False, True, True, True, True, True, True, True, False, True, True, False, False, True, False, False, False, False, True, True, False, False, False, False, False, True, True, True, True, True, True], 29))\n",
    "        tests.append(([True, True, True, False, False, True, True, False, True, True, False, False, True, True, False, False, False, False, True, False, False, False, True, True, True, False, True, True, True, False, False, False, True, True, False, True, True, False, True, False, False, False, True, False, False, True, False, False, False, False], 24))\n",
    "        tests.append(([True, True, False, False, False, False, True, False, False, False, False, True, True, True, False, True, True, False, False, False, True, True, False, True, False, True, True, True, False, True, False, True, True, False, False, True, True, False, True, False, True, False, True, True, False, True, False, False, True, True], 30))\n",
    "        tests.append(([True, False, False, True, False, False, True, True, False, False, True, False, False, False, False, True, True, True, True, True, False, False, True, False, True, True, True, True, False, False, False, False, True, False, False, False, True, False, False, False, False, False, True, True, True, True, False, False, True, False], 27))\n",
    "        tests.append(([False, True, False, True, True, False, False, True, False, True, True, True, False, False, False, False, True, True, False, False, True, False, True, False, False, True, True, False, True, True, True, False, False, False, True, True, False, False, False, True, False, True, True, False, False, True, False, True, True, False], 26))\n",
    "        tests.append(([True, False, False, False, False, False, True, False, True, True, True, True, True, True, True, False, True, False, True, True, True, False, False, False, False, False, False, True, False, True, True, True, True, True, False, True, False, True, False, True, False, False, False, False, True, True, False, True, False, True], 28))\n",
    "        tests.append(([False, True, True, False, True, False, True, True, False, False, False, True, True, False, True, True, False, True, False, True, False, True, False, True, True, False, True, False, True, True, True, False, True, True, False, False, False, False, True, False, False, False, True, False, False, True, True, False, True, True], 27))\n",
    "        tests.append(([False, True, False, False, False, False, True, True, False, True, True, False, False, True, False, True, True, False, True, False, True, True, False, True, False, False, True, False, False, False, True, True, False, True, True, True, False, False, True, True, False, True, True, True, False, False, True, True, False, False], 20))\n",
    "        tests.append(([True, True, True, True, False, False, False, True, False, True, True, False, True, False, True, False, True, True, False, False, True, True, False, True, True, True, False, False, False, False, True, False, True, True, False, True, False, True, True, False, False, False, False, True, True, True, False, False, True, False], 26))\n",
    "        tests.append(([False, False, False, True, True, True, False, True, False, True, False, True, True, False, False, True, False, False, False, False, False, False, False, True, False, False, True, False, False, True, True, False, False, False, False, False, False, False, True, True, False, False, True, False, True, False, True, True, False, False], 26))\n",
    "        for test in tests:\n",
    "            tree = self.buildtree(test[0], degree)\n",
    "            self.checkcost(tree, test[1])\n",
    "\n",
    "    def testBigDeg2(self):\n",
    "        tests = []\n",
    "        degree = 2\n",
    "        tests.append(([True, False, False, False, False, True, False, True, False, True, False, True, False, False, True, False, False, True, False, False, False, False, True, False, False, True, False, True, False, False, True, False, True, True, False, True, True, True, False, True, True, True, True, False, True, False, False, False, True, True, True, True, True, False, True, True, True, True, False, False, False, False, False, False, False, True, False, True, True, False, False, False, True, True, False, False, False, False, False, True, False, True, False, False, False, True, True, True, False, True, True, False, True, True, False, False, True, False, True, True, False, False, False, True, True, False, True, False, True, False, True, True, True, True, True, True, False, True, True, True, True, True, True, True, True, False, False, True, True, False, False, False, True, False, True, True, False, False, False, True, False, False, False, False, False, True, False, False, True, True, True, True, False, False, False, False, False, True, False, True, False, False, False, True, True, True, True, True, False, False, False, False, False, True, False, False, True, False, True, False, False, True, True, True, False, True, True, False, False, True, True, True, True, True, False, True, True, True, True, False], 100))\n",
    "        tests.append(([False, True, True, True, True, True, False, True, True, True, False, False, False, True, True, True, False, False, True, True, True, True, False, False, True, False, True, True, True, False, True, True, False, False, False, False, False, False, True, True, True, True, True, True, True, False, False, False, False, True, True, False, False, True, False, False, True, False, True, False, False, True, False, False, False, False, False, True, True, False, False, False, True, True, False, True, False, False, True, True, True, False, False, False, False, False, True, True, False, True, True, False, True, True, False, False, False, False, True, False, True, True, False, True, True, True, False, False, True, False, True, False, False, True, True, False, True, False, False, True, True, True, False, True, True, True, False, False, False, False, False, True, False, False, False, True, True, False, False, False, True, False, True, True, True, False, True, False, False, True, False, True, True, False, False, False, False, False, True, False, False, True, False, False, True, True, True, True, False, False, False, False, False, False, True, True, True, False, True, True, False, True, True, False, True, False, False, True, False, True, False, True, True, True, True, True, True, False, False, False], 86))\n",
    "        tests.append(([False, False, False, True, False, True, False, False, False, True, False, True, True, False, False, True, False, True, True, True, True, False, False, False, True, True, False, True, False, False, True, False, True, True, False, True, True, True, False, False, False, True, True, True, False, False, True, True, True, False, True, True, False, False, True, False, False, True, True, True, False, False, False, False, False, False, True, False, True, True, True, False, False, True, False, False, False, True, True, True, True, False, False, True, False, False, True, True, False, True, True, False, True, True, True, True, False, False, False, False, True, True, False, True, False, False, False, False, True, False, False, False, False, True, False, False, False, True, False, True, True, False, True, False, False, True, True, True, True, False, False, False, True, False, True, True, True, True, False, True, True, False, True, True, True, True, True, True, False, False, True, False, False, True, True, False, True, False, True, False, False, True, True, True, True, True, True, True, True, False, True, True, True, True, True, False, True, False, True, False, False, False, True, False, True, True, False, True, False, True, True, False, False, False, False, False, True, False, True, True], 106))\n",
    "        tests.append(([True, False, True, False, False, True, False, False, False, True, False, True, True, True, False, False, False, False, False, True, True, True, True, True, False, True, True, True, False, True, False, False, True, True, False, False, False, False, False, False, True, True, False, False, False, True, False, True, True, True, False, False, True, False, False, False, False, True, False, True, False, True, False, True, True, True, True, True, True, False, True, False, False, True, False, True, False, True, False, True, True, True, True, False, True, True, False, False, False, True, True, True, True, False, False, True, False, True, True, True, False, False, False, False, True, False, True, True, True, True, False, False, True, False, False, True, False, True, True, False, False, True, False, False, False, True, False, False, True, True, False, True, True, True, False, False, True, True, True, False, True, True, False, True, True, True, True, False, False, False, False, False, True, False, False, False, False, True, False, True, False, False, True, False, False, True, True, False, True, False, False, True, True, True, False, False, False, False, True, False, True, False, False, False, True, False, False, True, False, False, False, True, False, False, True, False, True, True, False, False], 91))\n",
    "        tests.append(([True, True, True, True, True, False, True, False, False, True, False, False, False, True, True, True, False, True, False, False, False, True, True, True, True, True, True, True, True, True, False, True, True, True, True, True, False, True, True, True, False, False, True, True, True, True, False, False, False, False, False, False, True, False, False, True, False, False, True, True, False, False, False, True, True, True, True, False, True, False, False, False, False, True, False, True, False, False, True, True, True, False, False, True, True, False, True, True, False, False, False, True, False, False, False, False, True, False, True, True, True, False, False, True, False, False, True, True, False, False, True, False, True, True, False, True, True, True, True, False, False, False, False, False, True, False, False, True, False, True, True, True, True, True, True, True, True, True, False, False, False, True, False, True, True, False, False, False, True, True, False, False, False, True, False, False, True, False, False, True, True, False, True, False, False, False, False, True, False, True, False, False, False, True, False, True, False, False, True, True, False, False, False, True, False, False, True, False, True, False, False, True, True, False, False, True, True, True, True, True], 94))\n",
    "        tests.append(([False, True, False, True, False, True, False, False, False, False, True, True, True, False, False, True, True, True, True, True, True, True, True, True, False, True, True, False, False, False, True, False, True, True, False, False, True, False, False, True, True, False, False, False, True, False, False, True, False, True, True, True, False, True, False, False, True, True, True, False, False, False, False, False, False, True, True, False, True, True, False, False, True, True, False, True, False, True, True, True, False, True, True, False, True, True, False, False, False, False, True, False, True, True, False, False, True, False, True, False, False, True, False, False, True, True, True, True, True, True, True, False, False, False, False, False, False, False, False, False, False, True, True, True, True, True, False, False, True, True, False, False, True, False, True, False, False, False, False, False, False, True, False, True, False, True, True, True, True, True, True, False, False, False, False, True, True, False, True, True, True, True, True, False, False, True, True, False, True, True, False, True, True, False, True, False, True, True, False, True, True, True, False, True, False, True, False, False, True, False, False, True, False, True, False, True, False, True, False, True], 103))\n",
    "        tests.append(([True, False, False, True, False, True, True, False, False, True, False, False, True, False, True, False, True, False, True, False, False, True, False, True, False, True, True, True, True, True, True, False, False, True, True, False, True, False, True, True, True, True, False, True, True, True, False, False, True, True, True, False, True, False, True, False, True, True, False, False, False, True, True, False, True, False, True, True, False, True, True, False, True, True, False, True, True, True, True, False, False, False, True, False, True, True, True, False, True, True, True, True, True, False, True, False, False, True, False, True, False, True, True, True, False, False, True, False, False, True, False, True, True, True, True, True, True, False, False, False, False, False, True, False, False, True, True, True, True, True, False, False, True, True, False, True, False, False, False, True, False, False, True, True, True, False, True, False, True, True, False, True, True, True, True, False, True, True, True, True, False, True, False, True, True, True, False, True, False, True, True, False, True, True, False, True, False, False, False, True, False, True, False, True, False, False, False, False, True, True, True, True, False, True, True, True, False, True, False, False], 95))\n",
    "        tests.append(([True, True, False, True, False, True, True, True, True, False, False, False, False, False, True, True, True, False, False, True, False, True, True, False, False, True, False, True, False, True, True, False, True, False, False, True, True, True, False, True, False, True, False, True, True, True, True, False, False, True, True, False, True, True, False, False, True, False, True, False, True, True, False, False, False, True, False, True, False, False, False, True, True, False, True, False, False, False, True, True, True, True, False, False, True, False, True, True, True, False, False, True, False, True, True, False, False, True, True, False, False, True, False, False, False, False, False, True, False, False, False, True, True, False, False, False, False, False, True, False, False, True, False, True, False, False, True, False, True, True, True, True, True, False, True, True, False, True, False, True, True, True, True, True, True, True, True, True, False, False, True, True, False, False, False, True, True, True, False, False, True, True, True, True, True, False, False, False, True, False, True, False, True, True, False, True, False, False, False, True, False, False, False, True, True, True, False, False, True, True, True, True, False, False, False, False, True, False, False, True], 90))\n",
    "        tests.append(([False, False, True, False, False, True, False, False, True, True, False, True, True, True, False, False, False, False, True, False, True, True, True, True, False, True, True, True, True, True, False, True, False, True, True, False, False, False, True, False, True, True, False, True, False, False, True, False, True, False, False, True, True, True, False, False, True, True, False, True, False, False, True, True, True, True, False, False, False, False, True, True, True, False, False, False, True, True, True, True, False, True, False, False, True, True, True, True, True, True, True, False, False, False, True, True, False, True, False, False, False, True, False, False, False, True, True, False, True, False, False, False, True, False, True, False, False, False, False, True, True, True, False, False, True, False, False, True, True, False, True, True, True, True, False, True, False, True, True, False, True, True, True, True, True, False, False, False, False, False, True, False, True, False, True, True, True, True, True, False, True, True, True, True, False, False, False, False, True, False, True, True, False, True, True, True, False, True, False, True, False, False, False, False, False, True, False, True, True, False, False, True, False, False, True, False, False, True, True, True], 89))\n",
    "        tests.append(([False, True, True, False, True, False, True, True, True, True, False, True, False, False, False, True, False, True, True, True, False, True, True, True, True, False, True, False, False, False, False, True, False, True, True, False, True, True, False, False, False, True, True, True, False, False, False, False, True, True, True, False, True, True, False, False, True, False, False, False, False, True, True, True, True, True, False, False, False, False, True, True, False, False, True, False, True, False, False, True, False, True, False, True, True, False, True, True, True, True, True, True, False, False, True, False, True, False, False, True, True, True, True, True, True, True, True, False, True, False, True, False, False, True, False, True, True, True, False, True, True, False, False, True, True, True, True, False, True, True, True, False, True, True, True, True, True, False, True, False, False, False, True, False, True, False, True, True, True, True, True, False, True, True, True, False, False, False, True, True, True, False, False, False, True, False, True, False, False, True, True, False, False, False, True, True, False, False, False, True, False, True, True, True, False, False, True, True, True, True, True, True, False, False, True, True, True, False, False, True], 91))\n",
    "        for test in tests:\n",
    "            tree = self.buildtree(test[0], degree)\n",
    "            self.checkcost(tree, test[1])\n",
    "            \n",
    "    def testBigDeg5(self):\n",
    "        tests = []\n",
    "        degree = 5 \n",
    "        tests.append(([True, False, False, False, True, True, True, False, True, False, False, True, False, False, False, True, True, False, True, True, False, False, False, True, False, False, False, False, False, True, True, False, False, False, True, False, False, True, False, True, True, True, False, True, True, False, False, True, True, True, True, True, True, True, True, False, True, False, False, False, True, True, False, False, False, True, True, False, False, False, True, True, True, False, True, True, False, False, True, True, True, False, True, False, True, False, True, True, True, False, True, True, True, True, True, False, True, True, False, False, True, True, False, False, False, True, False, True, False, False, False, False, True, False, False, True, False, False, False, True, False, True, False, True, True, True, True, False, True, False, False, False, False, False, False, True, True, True, False, True, False, False, False, True, False, False, False, False, True, False, True, False, True, True, False, False, True, False, False, False, True, False, False, False, True, True, False, False, True, True, True, True, True, True, True, True, True, False, True, True, False, False, True, False, True, True, False, True, True, False, True, False, True, False, False, False, False, False, False, True], 102))\n",
    "        tests.append(([True, False, False, True, True, False, False, True, False, True, False, True, True, True, False, False, False, False, False, False, False, True, False, True, True, True, True, True, False, True, True, False, False, True, False, True, False, True, False, False, True, True, True, False, False, False, False, False, True, True, True, True, True, False, False, False, True, True, False, False, True, True, False, True, True, False, False, False, True, False, True, True, False, False, False, False, True, True, False, True, True, True, True, True, True, True, False, True, False, True, True, True, True, True, True, False, True, True, False, True, False, False, True, True, True, False, True, False, False, True, False, True, True, False, False, True, True, False, False, True, False, True, False, True, True, False, True, True, True, True, False, False, True, False, False, True, True, True, False, True, True, True, False, True, False, False, False, False, False, False, False, True, True, True, True, False, False, True, False, False, False, False, True, False, True, True, False, True, False, False, True, False, True, True, True, True, False, True, False, True, True, True, False, False, True, True, False, False, True, False, True, False, False, True, False, True, True, True, False, False], 106))\n",
    "        tests.append(([False, False, False, False, False, False, False, True, True, True, False, False, True, True, True, True, False, True, False, False, False, True, True, False, True, True, False, False, True, False, False, False, False, True, True, False, False, True, False, False, True, True, False, False, False, False, False, False, True, False, True, True, True, False, False, False, False, False, True, False, True, True, False, False, True, False, True, True, False, False, True, True, True, False, True, False, False, False, True, True, False, False, True, True, False, True, False, False, True, False, True, False, True, False, False, True, True, True, False, True, True, True, False, False, False, True, False, True, False, True, False, True, False, False, True, False, True, False, True, False, True, True, True, True, False, True, False, False, True, True, False, False, True, True, True, True, False, False, True, False, False, False, True, False, True, True, True, False, True, False, True, True, True, True, False, False, False, True, True, True, False, True, False, False, False, True, True, True, True, False, False, True, True, False, False, True, False, True, True, True, False, True, True, True, False, True, True, True, True, False, True, True, True, True, False, True, False, False, False, True], 101))\n",
    "        tests.append(([True, False, False, True, True, True, True, True, True, False, True, True, True, True, False, False, False, False, False, True, False, True, False, True, True, True, False, True, True, True, True, False, True, False, False, False, True, False, True, False, False, False, True, False, False, False, True, True, False, False, False, False, False, False, False, False, False, False, True, True, False, False, True, True, True, True, False, True, False, True, False, True, False, False, False, True, False, False, True, False, False, True, True, True, False, True, True, False, False, False, True, False, False, False, False, True, True, True, True, False, True, True, False, True, False, True, True, True, False, False, False, False, False, False, False, True, True, False, True, False, True, True, True, False, False, True, False, True, True, False, True, True, False, False, True, False, False, False, True, False, False, True, False, False, False, False, False, True, True, True, False, False, True, False, True, True, False, False, True, True, False, True, True, False, True, False, False, True, False, False, True, True, False, True, True, True, True, True, False, True, True, False, True, False, False, False, False, True, True, False, True, True, False, False, False, True, False, True, False, False], 103))\n",
    "        tests.append(([True, True, False, True, False, True, True, False, False, False, True, False, True, True, True, False, True, False, False, False, False, False, False, True, True, True, False, True, True, True, False, True, False, True, False, True, True, False, True, True, True, False, True, True, False, True, True, False, False, True, True, True, True, False, False, False, True, False, False, True, True, True, False, True, True, True, False, False, False, True, True, False, False, True, False, False, True, False, False, False, True, False, True, True, False, True, False, True, False, False, True, True, True, False, True, False, True, True, False, False, False, True, False, False, True, False, False, True, True, True, True, False, False, False, False, True, False, False, False, False, False, True, False, False, False, False, False, True, True, True, False, True, False, True, False, False, False, False, False, True, True, False, True, False, True, True, True, False, False, False, False, True, False, True, True, False, False, False, True, False, False, False, False, True, False, True, True, False, True, True, False, False, True, False, False, True, True, False, True, True, False, True, True, False, False, False, False, True, True, False, True, False, False, False, False, True, False, False, False, True], 111))\n",
    "        tests.append(([False, False, False, False, True, True, True, True, False, False, True, False, True, False, False, True, True, True, False, False, True, True, False, False, True, True, True, True, False, True, True, False, False, False, False, True, False, True, True, True, True, True, True, False, True, True, False, False, True, True, True, False, False, False, False, True, False, True, False, False, True, True, False, False, True, True, False, True, False, False, True, False, True, True, True, True, True, False, True, False, False, True, False, False, True, True, False, False, True, True, False, True, True, True, True, True, True, True, True, True, False, True, True, False, False, False, False, False, False, True, False, False, True, True, False, True, False, False, False, False, True, True, True, False, True, False, True, True, True, False, False, False, True, True, False, False, True, True, True, True, False, True, False, True, False, True, False, False, False, False, True, False, True, True, True, False, False, False, False, True, False, False, False, True, False, True, True, False, False, False, True, True, True, False, False, False, True, False, True, False, True, False, False, True, False, False, False, False, False, True, True, True, True, True, True, False, False, False, True, True], 100))\n",
    "        tests.append(([False, True, False, False, True, False, False, True, False, True, True, True, True, True, True, True, False, True, True, True, True, True, True, True, True, False, False, False, False, False, True, False, True, True, False, False, True, True, True, False, False, False, True, False, True, True, True, True, True, True, True, False, True, True, True, True, True, False, True, False, False, True, False, True, True, True, False, True, True, False, True, True, True, True, False, True, False, True, True, True, True, True, True, True, True, False, False, False, True, False, False, True, True, True, True, False, True, True, False, True, True, False, True, False, False, False, False, False, True, True, True, False, True, True, False, True, False, True, False, False, True, False, True, False, True, False, True, True, True, False, False, False, True, True, False, False, False, True, True, True, True, True, True, False, False, True, True, False, False, True, True, False, False, False, False, False, False, True, True, False, False, False, True, True, False, False, True, True, False, True, False, False, False, True, True, False, False, True, True, True, False, True, True, True, True, True, False, False, False, False, True, True, False, True, True, False, False, True, True, True], 96))\n",
    "        tests.append(([True, False, True, True, False, True, False, False, True, False, False, True, False, False, False, False, False, False, False, True, True, True, False, True, True, True, False, False, False, True, False, True, False, False, True, True, False, True, False, False, False, True, False, True, True, True, False, True, False, True, False, False, False, False, True, False, False, False, False, True, True, True, True, False, True, False, False, False, True, False, False, True, False, True, False, False, False, True, False, True, False, False, False, False, False, False, False, True, False, False, False, True, True, True, True, False, True, False, True, False, True, True, True, True, False, False, False, True, False, True, True, False, False, True, False, True, True, False, False, True, True, True, False, False, False, False, True, False, True, True, False, True, True, False, True, False, False, True, False, False, False, True, True, False, False, False, True, True, False, True, False, True, False, False, False, False, False, False, True, True, False, True, True, False, False, True, True, False, True, False, True, True, False, False, True, True, False, True, False, True, True, True, False, True, False, True, False, True, True, False, True, True, True, True, False, True, True, True, False, True], 92))\n",
    "        tests.append(([True, False, False, True, False, False, True, True, False, False, False, False, False, False, False, False, False, False, True, True, True, True, True, True, False, False, False, True, False, True, False, False, False, False, True, False, False, True, True, False, False, False, True, False, False, True, True, True, False, True, False, False, True, True, False, True, False, False, True, False, False, False, True, True, False, False, False, True, True, True, True, True, False, True, False, True, True, True, True, True, False, False, True, False, False, False, True, True, True, True, False, False, True, True, True, True, True, True, True, True, True, False, False, True, False, False, True, True, True, False, True, True, True, False, True, True, False, False, False, True, False, True, False, False, True, False, False, True, False, True, False, True, False, True, False, False, False, True, False, True, False, False, True, False, True, True, False, True, False, False, False, True, False, True, False, False, True, False, True, False, True, False, False, False, False, False, False, True, True, False, False, False, True, False, True, True, True, True, False, True, True, True, False, False, True, True, True, False, True, True, True, True, True, True, True, True, False, False, True, False], 92))\n",
    "        tests.append(([True, True, False, True, False, True, True, True, True, True, False, False, False, True, False, True, True, False, False, False, False, True, False, False, True, False, True, False, False, False, False, False, True, True, False, False, False, False, False, True, True, False, True, False, True, True, True, False, False, False, True, True, True, False, False, False, True, True, True, False, True, False, True, True, True, True, True, False, True, True, False, True, False, True, True, True, False, False, False, True, True, True, False, True, True, True, True, False, True, True, True, True, False, True, True, True, False, False, False, False, True, False, False, True, False, False, True, True, True, False, True, False, True, False, True, True, True, False, False, True, True, False, False, False, True, False, False, True, True, True, True, True, True, True, False, True, True, False, False, True, False, True, True, False, False, True, True, False, True, True, True, False, False, True, True, True, False, True, False, False, True, False, False, True, True, False, True, False, True, True, True, False, True, True, False, False, False, False, False, False, True, False, True, True, False, False, False, True, True, True, False, True, True, False, True, True, True, False, False, False], 105))\n",
    "        for test in tests:\n",
    "            tree = self.buildtree(test[0], degree)\n",
    "            self.checkcost(tree, test[1])"
   ]
  },
  {
   "cell_type": "code",
   "execution_count": 8,
   "metadata": {
    "colab": {},
    "colab_type": "code",
    "id": "0nCWKIzBSozj"
   },
   "outputs": [
    {
     "name": "stderr",
     "output_type": "stream",
     "text": [
      "........\n",
      "----------------------------------------------------------------------\n",
      "Ran 8 tests in 0.014s\n",
      "\n",
      "OK\n"
     ]
    },
    {
     "data": {
      "text/plain": [
       "<unittest.runner.TextTestResult run=8 errors=0 failures=0>"
      ]
     },
     "execution_count": 8,
     "metadata": {},
     "output_type": "execute_result"
    }
   ],
   "source": [
    "testsavetree = TestSaveTree()\n",
    "suite = unittest.TestLoader().loadTestsFromModule(testsavetree)\n",
    "unittest.TextTestRunner().run(suite)"
   ]
  },
  {
   "cell_type": "code",
   "execution_count": null,
   "metadata": {},
   "outputs": [],
   "source": []
  }
 ],
 "metadata": {
  "colab": {
   "collapsed_sections": [],
   "name": "FIT5211_2019_S2_Assignment_2_Q2_v1.1.ipynb",
   "provenance": []
  },
  "kernelspec": {
   "display_name": "Python 3",
   "language": "python",
   "name": "python3"
  },
  "language_info": {
   "codemirror_mode": {
    "name": "ipython",
    "version": 3
   },
   "file_extension": ".py",
   "mimetype": "text/x-python",
   "name": "python",
   "nbconvert_exporter": "python",
   "pygments_lexer": "ipython3",
   "version": "3.6.5"
  }
 },
 "nbformat": 4,
 "nbformat_minor": 1
}
