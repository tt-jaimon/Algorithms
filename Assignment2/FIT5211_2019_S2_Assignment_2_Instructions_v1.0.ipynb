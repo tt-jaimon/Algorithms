{
 "cells": [
  {
   "cell_type": "markdown",
   "metadata": {
    "colab_type": "text",
    "id": "603SPeoiXa-H"
   },
   "source": [
    "# Instructions\n",
    "* You must work on this assignment individually. We check for similarities and find collusion cases every semester. You've been warned!\n",
    "* An interview will be conducted for each student by the tutoring team during the tutorials of week 12. The purpose of the interview is to assess to whether each student understands the answers that they have provided. Based on the interview, every student will be awarded a modifier $X$ to their mark, which can be 0, .5, or 1. Your final assignment mark will be $X \\times Y$, where $Y$ is the \"normal\" assignment mark from 0 to 100. This is a way for us to verify whether the answers you understand all the answers you have given. We strongly encourage you don't provide even one answer you don't understand, as this may penalise the entirety of your assignment mark.\n",
    "* This assignment contributes 20% towards your final mark in FIT5211.\n",
    "* The subjects are Dynamic Programming, Searching, Sorting, Tree (traversals).\n",
    "* The questions are roughly given by increasing difficulty. Obtaining a 100% mark may be very hard, depending on your background, and will probably take many hours. The assignment is written such that everyone can correctly answer the first questions, but it is likely that the last ones will only be succesfully completed by few.\n",
    "* We provide tests. Do not edit them. If you want to edit them for your own debugging, then please make a copy and remove it later. A program will not receive full marks if it does not pass all tests. A program which passes all tests may still be incorrect, and thus may not receive full marks either. You may write and run additional tests.\n",
    "* Write clear and commented code. Up to all marks can be removed if your code is hard to read.\n",
    "* The expected deliverable is a *zip* archive of the four Jupyter Notebooks, completed with your answers. Missing files will be marked 0.\n",
    "* For questions on this assigment, please use the [Moodle forum](https://lms.monash.edu/mod/forum/view.php?id=6220683).\n",
    "* The deadline is Monday 21/10/2019 at 11:55am (just before noon), submission via [Moodle](https://lms.monash.edu/course/view.php?id=56446&section=5). If this does not work, and only in this case, send your *zipped* Notebooks to Bao.Ho@monash.edu.\n",
    "* The late penalty is 10 marks (deducted from your original mark) per late day.\n",
    "* Have fun!"
   ]
  },
  {
   "cell_type": "code",
   "execution_count": 0,
   "metadata": {
    "colab": {},
    "colab_type": "code",
    "id": "22Ee_-vBXj4V"
   },
   "outputs": [],
   "source": []
  }
 ],
 "metadata": {
  "colab": {
   "collapsed_sections": [],
   "name": "FIT5211_2019_S2_Assignment_2_Instructions_v1.0.ipynb",
   "provenance": []
  },
  "kernelspec": {
   "display_name": "Python 3",
   "language": "python",
   "name": "python3"
  },
  "language_info": {
   "codemirror_mode": {
    "name": "ipython",
    "version": 3
   },
   "file_extension": ".py",
   "mimetype": "text/x-python",
   "name": "python",
   "nbconvert_exporter": "python",
   "pygments_lexer": "ipython3",
   "version": "3.6.5"
  }
 },
 "nbformat": 4,
 "nbformat_minor": 1
}
